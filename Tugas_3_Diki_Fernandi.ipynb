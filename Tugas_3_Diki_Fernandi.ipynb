{
  "nbformat": 4,
  "nbformat_minor": 0,
  "metadata": {
    "colab": {
      "provenance": []
    },
    "kernelspec": {
      "name": "python3",
      "display_name": "Python 3"
    },
    "language_info": {
      "name": "python"
    }
  },
  "cells": [
    {
      "cell_type": "markdown",
      "source": [
        "Nama : Diki Fernandi\n",
        "\n",
        "NIM  : 20124023"
      ],
      "metadata": {
        "id": "QDRsPfmqS4S0"
      }
    },
    {
      "cell_type": "markdown",
      "source": [
        "# ***1. Loading Data***"
      ],
      "metadata": {
        "id": "DxPxM3UhTFQN"
      }
    },
    {
      "cell_type": "code",
      "source": [
        "# Import scikit-learn dataset library\n",
        "from sklearn import datasets\n",
        "\n",
        "# Load dataset\n",
        "cancer = datasets.load_breast_cancer()"
      ],
      "metadata": {
        "id": "_BFaMO7kS_tf"
      },
      "execution_count": 2,
      "outputs": []
    },
    {
      "cell_type": "markdown",
      "source": [
        "# ***2. Cek Fitur Dataset***"
      ],
      "metadata": {
        "id": "ZAOrjJuzTOCn"
      }
    },
    {
      "cell_type": "code",
      "source": [
        "# Print the names of the 30 features\n",
        "print(\"Features:\", cancer.feature_names)\n",
        "\n",
        "# Print the label types of cancer ('malignant' or 'benign')\n",
        "print(\"Labels:\", cancer.target_names)"
      ],
      "metadata": {
        "colab": {
          "base_uri": "https://localhost:8080/"
        },
        "id": "EUTjan8HTT7i",
        "outputId": "e7fc9b84-30a6-43da-cf5a-01cd6bdb0414"
      },
      "execution_count": 3,
      "outputs": [
        {
          "output_type": "stream",
          "name": "stdout",
          "text": [
            "Features: ['mean radius' 'mean texture' 'mean perimeter' 'mean area'\n",
            " 'mean smoothness' 'mean compactness' 'mean concavity'\n",
            " 'mean concave points' 'mean symmetry' 'mean fractal dimension'\n",
            " 'radius error' 'texture error' 'perimeter error' 'area error'\n",
            " 'smoothness error' 'compactness error' 'concavity error'\n",
            " 'concave points error' 'symmetry error' 'fractal dimension error'\n",
            " 'worst radius' 'worst texture' 'worst perimeter' 'worst area'\n",
            " 'worst smoothness' 'worst compactness' 'worst concavity'\n",
            " 'worst concave points' 'worst symmetry' 'worst fractal dimension']\n",
            "Labels: ['malignant' 'benign']\n"
          ]
        }
      ]
    },
    {
      "cell_type": "markdown",
      "source": [
        "# ***3. Splitting Data***"
      ],
      "metadata": {
        "id": "kvhnJPTtUIce"
      }
    },
    {
      "cell_type": "code",
      "source": [
        "# Import train_test_split function from scikit-learn\n",
        "from sklearn.model_selection import train_test_split\n",
        "\n",
        "# Split dataset into training set (70%) and test set (30%)\n",
        "X_train, X_test, y_train, y_test = train_test_split(\n",
        "    cancer.data,            # Feature data\n",
        "    cancer.target,          # Target labels\n",
        "    test_size=0.3,          # 30% for test set\n",
        "    random_state=109        # Seed for reproducibility\n",
        ")"
      ],
      "metadata": {
        "id": "wikLUUN8UUds"
      },
      "execution_count": 4,
      "outputs": []
    },
    {
      "cell_type": "markdown",
      "source": [
        "# ***4. Generating Model***"
      ],
      "metadata": {
        "id": "xunG7SpPUjgI"
      }
    },
    {
      "cell_type": "code",
      "source": [
        "# Import Support Vector Machine (SVM) model from scikit-learn\n",
        "from sklearn import svm\n",
        "\n",
        "# Create an SVM classifier with linear kernel\n",
        "clf = svm.SVC(kernel='linear')  # Linear Kernel for linear classification\n",
        "\n",
        "# Train the model using the training data\n",
        "clf.fit(X_train, y_train)  # X_train: training features, y_train: training labels\n",
        "\n",
        "# Predict the target values for the test set\n",
        "y_pred = clf.predict(X_test)  # X_test: test features"
      ],
      "metadata": {
        "id": "yDmcXihYUieM"
      },
      "execution_count": 5,
      "outputs": []
    },
    {
      "cell_type": "markdown",
      "source": [
        "# ***5. Evaluation Model***"
      ],
      "metadata": {
        "id": "a7D2nlthU7F5"
      }
    },
    {
      "cell_type": "code",
      "source": [
        "# Import metrics module from scikit-learn for model evaluation\n",
        "from sklearn import metrics\n",
        "\n",
        "# Evaluate model performance\n",
        "print(\"Model Evaluation Metrics:\")\n",
        "print(\"-\" * 25)\n",
        "print(\"Accuracy:\", metrics.accuracy_score(y_test, y_pred))  # Overall correctness of the model\n",
        "print(\"Precision:\", metrics.precision_score(y_test, y_pred))  # True positives / (True positives + False positives)\n",
        "print(\"Recall:\", metrics.recall_score(y_test, y_pred))  # True positives / (True positives + False negatives)"
      ],
      "metadata": {
        "colab": {
          "base_uri": "https://localhost:8080/"
        },
        "id": "ZBj7el3ZVBNg",
        "outputId": "26cfaf86-9f1c-490d-d787-ed1847cacd69"
      },
      "execution_count": 6,
      "outputs": [
        {
          "output_type": "stream",
          "name": "stdout",
          "text": [
            "Model Evaluation Metrics:\n",
            "-------------------------\n",
            "Accuracy: 0.9649122807017544\n",
            "Precision: 0.9811320754716981\n",
            "Recall: 0.9629629629629629\n"
          ]
        }
      ]
    }
  ]
}